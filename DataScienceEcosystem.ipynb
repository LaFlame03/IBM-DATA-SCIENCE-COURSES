{
 "cells": [
  {
   "cell_type": "markdown",
   "id": "6e9429c8-a90f-4a3d-ae99-b268ee1e1ad0",
   "metadata": {},
   "source": [
    "# Data Science Tools and Ecosystem"
   ]
  },
  {
   "cell_type": "markdown",
   "id": "d525e8b8-fa21-46bb-8316-2cb49a9629f5",
   "metadata": {},
   "source": [
    "In this notebook, Data Science Tools and Ecosystem are summarized  "
   ]
  },
  {
   "cell_type": "markdown",
   "id": "8131368f-198a-40e0-a5cb-fe92f7b20940",
   "metadata": {},
   "source": [
    "Some of the popular languages that Data Scientits use are:<br>\n",
    "1-Python <br>\n",
    "2-R <br>\n",
    "3-SQL <br>"
   ]
  },
  {
   "cell_type": "markdown",
   "id": "e21b817e-e9e5-465c-b93f-72af2449920a",
   "metadata": {},
   "source": [
    "Some of the commonly used libraries used by Data Scientits include:<br>\n",
    "1-Pandas <br>\n",
    "2-Numpy <br>\n",
    "3-Seaborn <br>"
   ]
  },
  {
   "cell_type": "markdown",
   "id": "9e707bb3-132a-40a2-9f8e-4dae69bad01c",
   "metadata": {},
   "source": [
    "| Data Science Tools     |\r\n",
    "|------------------------|\r\n",
    "| Jupyter Notebook       |\r\n",
    "| RStudio                |\r\n",
    "| Visual Studio Code     |\r\n"
   ]
  },
  {
   "cell_type": "markdown",
   "id": "d5707403-6c2f-465e-91bf-6d92dede4d0a",
   "metadata": {
    "jp-MarkdownHeadingCollapsed": true
   },
   "source": [
    "### Below are a few examples of evaluating arithmetic expressions in Python.\n"
   ]
  },
  {
   "cell_type": "code",
   "execution_count": 1,
   "id": "7eeff5a3-47c1-4fc4-9765-624627b4e0f0",
   "metadata": {},
   "outputs": [
    {
     "data": {
      "text/plain": [
       "17"
      ]
     },
     "execution_count": 1,
     "metadata": {},
     "output_type": "execute_result"
    }
   ],
   "source": [
    "# This is a simple arithmetic expression to multiply then add integers\n",
    "result = (3 * 4) + 5\n",
    "result\n"
   ]
  },
  {
   "cell_type": "code",
   "execution_count": 2,
   "id": "8b2e907e-4364-4cb6-8769-70315517a783",
   "metadata": {},
   "outputs": [
    {
     "data": {
      "text/plain": [
       "3.3333333333333335"
      ]
     },
     "execution_count": 2,
     "metadata": {},
     "output_type": "execute_result"
    }
   ],
   "source": [
    "# This will convert 200 minutes to hours by dividing by 60\n",
    "hours = 200 / 60\n",
    "hours\n"
   ]
  },
  {
   "cell_type": "markdown",
   "id": "d0dd4eab-6246-4b8c-b5cd-2ceae2ef22a1",
   "metadata": {},
   "source": [
    "**Objectives:**\n",
    "- List popular languages for Data Science.\n",
    "- List popular libraries used by Data Scientists.\n",
    "- Demonstrate arithmetic expressions in Python.\n"
   ]
  },
  {
   "cell_type": "markdown",
   "id": "9aab2a4d-c1dd-4f43-a0ab-4c358af935f2",
   "metadata": {},
   "source": [
    "## Lakshmi Holla\n",
    "## Niveditha Pandith\n",
    "Drame Cheikhna\n"
   ]
  },
  {
   "cell_type": "code",
   "execution_count": null,
   "id": "eeeb5025-6510-442e-8d1e-956107e08373",
   "metadata": {},
   "outputs": [],
   "source": []
  }
 ],
 "metadata": {
  "kernelspec": {
   "display_name": "Python 3 (ipykernel)",
   "language": "python",
   "name": "python3"
  },
  "language_info": {
   "codemirror_mode": {
    "name": "ipython",
    "version": 3
   },
   "file_extension": ".py",
   "mimetype": "text/x-python",
   "name": "python",
   "nbconvert_exporter": "python",
   "pygments_lexer": "ipython3",
   "version": "3.11.7"
  }
 },
 "nbformat": 4,
 "nbformat_minor": 5
}
